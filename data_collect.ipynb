{
 "cells": [
  {
   "cell_type": "code",
   "execution_count": null,
   "id": "0868ad94",
   "metadata": {},
   "outputs": [],
   "source": [
    "import pandas as pd, datetime as dt\n",
    "\n",
    "# Parse the data into a dictionary\n",
    "def parse_sensor_data(data):\n",
    "    lines = data.strip().split('\\n')\n",
    "    parsed = {}\n",
    "    for line in lines:\n",
    "        parts = line.split(':')\n",
    "        name = parts[0].strip()\n",
    "        if len(parts) == 2:\n",
    "            value = parts[1].strip()\n",
    "            parsed[f\"{name} - V\"] = value\n",
    "        elif len(parts) == 3:\n",
    "            value1 = parts[1].strip()\n",
    "            value2 = parts[2].strip()\n",
    "            parsed[f\"{name} - ppm\"] = value1\n",
    "            parsed[f\"{name} - V\"] = value2\n",
    "    return parsed\n"
   ]
  },
  {
   "cell_type": "code",
   "execution_count": 29,
   "id": "b0373522",
   "metadata": {},
   "outputs": [],
   "source": [
    "board1 = open(\"board1.txt\", \"r\")\n",
    "lines = board1.read().strip().split('\\n')"
   ]
  },
  {
   "cell_type": "code",
   "execution_count": 30,
   "id": "4dfe137f",
   "metadata": {},
   "outputs": [
    {
     "data": {
      "text/plain": [
       "['New Data',\n",
       " 'TGS2600: 0.93 V',\n",
       " 'TGS2602: 3.49 V',\n",
       " 'TGS2603: 0.01 V',\n",
       " 'MQ2: 1.10V',\n",
       " 'Reading Multichannel Gas Sensor...',\n",
       " 'GM102B (NO2): 300 ppm : 0.97 V',\n",
       " 'GM302B (C2H5CH): 467 ppm : 1.51 V',\n",
       " 'GM502B (VOC): 307 ppm : 0.99V',\n",
       " 'GM702B (CO): 266 ppm : 0.86V',\n",
       " 'Reading SGP30...',\n",
       " 'tVOC: 0 ppb : 0.00 V',\n",
       " 'CO2eq:400ppm : 0.00 V',\n",
       " 'Reading BME688...',\n",
       " 'temperature: 21.50 °C : 1.61 V',\n",
       " 'pressure : 94.83 KPa : 2.67 V',\n",
       " 'humidity : 42.23 % : 1.39V',\n",
       " 'gas : 12946.86 Kohms',\n",
       " 'Reading Formaldehyde...',\n",
       " 'hcho: 0.40 ppb : 0.00 V',\n",
       " 'humidity: 0.29 % : 0.96 V',\n",
       " 'temperature: 0.11 °C : 1.93 V',\n",
       " '',\n",
       " '',\n",
       " 'New Data',\n",
       " 'TGS2600: 2.26 V',\n",
       " 'TGS2602: 3.53 V',\n",
       " 'TGS2603: 0.00 V',\n",
       " 'MQ2: 1.07V',\n",
       " 'Reading Multichannel Gas Sensor...',\n",
       " 'GM102B (NO2): 300 ppm : 0.97 V',\n",
       " 'GM302B (C2H5CH): 468 ppm : 1.51 V',\n",
       " 'GM502B (VOC): 311 ppm : 1.00V',\n",
       " 'GM702B (CO): 274 ppm : 0.88V',\n",
       " 'Reading SGP30...',\n",
       " 'tVOC: 0 ppb : 0.00 V',\n",
       " 'CO2eq:400ppm : 0.00 V',\n",
       " 'Reading BME688...',\n",
       " 'temperature: 21.52 °C : 1.61 V',\n",
       " 'pressure : 94.83 KPa : 2.67 V',\n",
       " 'humidity : 42.26 % : 1.39V',\n",
       " 'gas : 12946.86 Kohms',\n",
       " 'Reading Formaldehyde...',\n",
       " 'hcho: 0.40 ppb : 0.00 V',\n",
       " 'humidity: 0.29 % : 0.96 V',\n",
       " 'temperature: 0.11 °C : 1.93 V']"
      ]
     },
     "execution_count": 30,
     "metadata": {},
     "output_type": "execute_result"
    }
   ],
   "source": [
    "lines"
   ]
  },
  {
   "cell_type": "code",
   "execution_count": null,
   "id": "9e022f5d",
   "metadata": {},
   "outputs": [],
   "source": [
    "\n",
    "\n",
    "\n",
    "\n",
    "# # Split the data into blocks separated by 'New Data'\n",
    "# blocks = sensor_data.strip().split('New Data')\n",
    "\n",
    "# # Parse each block and convert to DataFrame\n",
    "# data_frames = [pd.DataFrame([parse_sensor_block(block)]) for block in blocks if block.strip()]\n",
    "\n",
    "# # Combine all DataFrames into a single DataFrame\n",
    "# combined_df = pd.concat(data_frames, ignore_index=True)\n",
    "\n",
    "# # Display the result\n",
    "# print(combined_df)\n",
    "\n",
    "# # Convert to DataFrame\n",
    "# parsed_dict = parse_sensor_data(sensor_data)\n",
    "# df = pd.DataFrame([parsed_dict])\n",
    "\n",
    "# # Display the DataFrame\n",
    "# print(df)\n",
    "\n",
    "# # Optional: Save to CSV\n",
    "# df.to_csv(\"sensor_readings.csv\", index=False)\n"
   ]
  },
  {
   "cell_type": "code",
   "execution_count": 25,
   "id": "d14911c7",
   "metadata": {},
   "outputs": [
    {
     "name": "stdout",
     "output_type": "stream",
     "text": [
      "['TGS2600', ' 0.93 V']\n",
      "['TGS2602', ' 3.49 V']\n",
      "['TGS2603', ' 0.01 V']\n",
      "['MQ2', ' 1.10V']\n",
      "['GM102B (NO2)', ' 300 ppm ', ' 0.97 V']\n",
      "['GM302B (C2H5CH)', ' 467 ppm ', ' 1.51 V']\n",
      "['GM502B (VOC)', ' 307 ppm ', ' 0.99V']\n",
      "['GM702B (CO)', ' 266 ppm ', ' 0.86V']\n",
      "['tVOC', ' 0 ppb ', ' 0.00 V']\n",
      "['CO2eq', '400ppm ', ' 0.00 V']\n",
      "['temperature', ' 21.50 °C ', ' 1.61 V']\n",
      "['pressure ', ' 94.83 KPa ', ' 2.67 V']\n",
      "['humidity ', ' 42.23 % ', ' 1.39V']\n",
      "['gas ', ' 12946.86 Kohms']\n",
      "['hcho', ' 0.40 ppb ', ' 0.00 V']\n",
      "['humidity', ' 0.29 % ', ' 0.96 V']\n",
      "['temperature', ' 0.11 °C ', ' 1.93 V']\n",
      "['TGS2600', ' 2.26 V']\n",
      "['TGS2602', ' 3.53 V']\n",
      "['TGS2603', ' 0.00 V']\n",
      "['MQ2', ' 1.07V']\n",
      "['GM102B (NO2)', ' 300 ppm ', ' 0.97 V']\n",
      "['GM302B (C2H5CH)', ' 468 ppm ', ' 1.51 V']\n",
      "['GM502B (VOC)', ' 311 ppm ', ' 1.00V']\n",
      "['GM702B (CO)', ' 274 ppm ', ' 0.88V']\n",
      "['tVOC', ' 0 ppb ', ' 0.00 V']\n",
      "['CO2eq', '400ppm ', ' 0.00 V']\n",
      "['temperature', ' 21.52 °C ', ' 1.61 V']\n",
      "['pressure ', ' 94.83 KPa ', ' 2.67 V']\n",
      "['humidity ', ' 42.26 % ', ' 1.39V']\n",
      "['gas ', ' 12946.86 Kohms']\n",
      "['hcho', ' 0.40 ppb ', ' 0.00 V']\n",
      "['humidity', ' 0.29 % ', ' 0.96 V']\n",
      "['temperature', ' 0.11 °C ', ' 1.93 V']\n"
     ]
    }
   ],
   "source": [
    "board1 = open(\"board1.txt\", \"r\")\n",
    "\n",
    "b1 = [i.strip().split(\":\") for i in board1.readlines()] \n",
    "\n",
    "for i in b1:\n",
    "    if len(i) > 1:\n",
    "        print(i)"
   ]
  },
  {
   "cell_type": "code",
   "execution_count": null,
   "id": "c70a3e08",
   "metadata": {},
   "outputs": [
    {
     "data": {
      "text/plain": [
       "{'TGS2600 - V': '2.26 V',\n",
       " 'TGS2602 - V': '3.53 V',\n",
       " 'TGS2603 - V': '0.00 V',\n",
       " 'MQ2 - V': '1.07V',\n",
       " 'GM102B (NO2) - ppm': '300 ppm',\n",
       " 'GM102B (NO2) - V': '0.97 V',\n",
       " 'GM302B (C2H5CH) - ppm': '468 ppm',\n",
       " 'GM302B (C2H5CH) - V': '1.51 V',\n",
       " 'GM502B (VOC) - ppm': '311 ppm',\n",
       " 'GM502B (VOC) - V': '1.00V',\n",
       " 'GM702B (CO) - ppm': '274 ppm',\n",
       " 'GM702B (CO) - V': '0.88V',\n",
       " 'tVOC - ppm': '0 ppb',\n",
       " 'tVOC - V': '0.00 V',\n",
       " 'CO2eq - ppm': '400ppm',\n",
       " 'CO2eq - V': '0.00 V',\n",
       " 'temperature - ppm': '0.11 °C',\n",
       " 'temperature - V': '1.93 V',\n",
       " 'pressure - ppm': '94.83 KPa',\n",
       " 'pressure - V': '2.67 V',\n",
       " 'humidity - ppm': '0.29 %',\n",
       " 'humidity - V': '0.96 V',\n",
       " 'gas - V': '12946.86 Kohms',\n",
       " 'hcho - ppm': '0.40 ppb',\n",
       " 'hcho - V': '0.00 V'}"
      ]
     },
     "execution_count": 27,
     "metadata": {},
     "output_type": "execute_result"
    }
   ],
   "source": [
    "board1 = open(\"board1.txt\", \"r\")\n",
    "parse_sensor_data(board1.read())"
   ]
  },
  {
   "cell_type": "code",
   "execution_count": 30,
   "id": "5c4f523b",
   "metadata": {},
   "outputs": [
    {
     "name": "stdout",
     "output_type": "stream",
     "text": [
      "['TGS2610', ' 1.21 V']\n",
      "['TGS2611', ' 0.15V']\n",
      "['MQ9_b', ' 0.15 V']\n",
      "['temperature', ' 21.53 °C ', ' 1.61 V']\n",
      "['pressure', ' 94.81 KPa ', ' 2.67 V']\n",
      "['humidity', ' 31.88 % ', '1.02 V']\n",
      "['gas', ' 87.03 Kohms ', ' 0.00 V']\n",
      "['SRAW_VOC', '30616']\n",
      "['SRAW_NOx', '0']\n",
      "['TGS2610', ' 1.17 V']\n",
      "['TGS2611', ' 0.16V']\n",
      "['MQ9_b', ' 0.16 V']\n",
      "['temperature', ' 21.54 °C ', ' 1.61 V']\n",
      "['pressure', ' 94.81 KPa ', ' 2.67 V']\n",
      "['humidity', ' 31.87 % ', '1.02 V']\n",
      "['gas', ' 87.95 Kohms ', ' 0.00 V']\n",
      "['SRAW_VOC', '30612']\n",
      "['SRAW_NOx', '0']\n"
     ]
    }
   ],
   "source": [
    "board2 = open(\"board2.txt\", \"r\")\n",
    "\n",
    "b2 = [i.strip().split(\":\") for i in board2.readlines()]\n",
    "\n",
    "for i in b2:\n",
    "    if len(i) > 1:\n",
    "        print(i)"
   ]
  },
  {
   "cell_type": "code",
   "execution_count": null,
   "id": "2ba6bf64",
   "metadata": {},
   "outputs": [],
   "source": []
  }
 ],
 "metadata": {
  "kernelspec": {
   "display_name": ".venv",
   "language": "python",
   "name": "python3"
  },
  "language_info": {
   "codemirror_mode": {
    "name": "ipython",
    "version": 3
   },
   "file_extension": ".py",
   "mimetype": "text/x-python",
   "name": "python",
   "nbconvert_exporter": "python",
   "pygments_lexer": "ipython3",
   "version": "3.13.0"
  }
 },
 "nbformat": 4,
 "nbformat_minor": 5
}
